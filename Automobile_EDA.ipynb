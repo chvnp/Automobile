{
 "cells": [
  {
   "cell_type": "code",
   "execution_count": 1,
   "metadata": {
    "collapsed": false
   },
   "outputs": [],
   "source": [
    "import pandas as pd\n",
    "import numpy as np\n",
    "import matplotlib.pyplot as plt\n",
    "%matplotlib inline\n",
    "from IPython.display import HTML\n",
    "import warnings\n",
    "warnings.filterwarnings('ignore')\n"
   ]
  },
  {
   "cell_type": "code",
   "execution_count": 8,
   "metadata": {
    "collapsed": true
   },
   "outputs": [],
   "source": [
    "df = pd.read_csv('D:\\\\Prasad\\\\DS\\\\Upx\\\\Automobile_data.txt', sep=',',)"
   ]
  },
  {
   "cell_type": "code",
   "execution_count": 9,
   "metadata": {
    "collapsed": false
   },
   "outputs": [
    {
     "name": "stdout",
     "output_type": "stream",
     "text": [
      "Index([u'symboling', u'normalized-losses', u'make', u'fuel-type',\n",
      "       u'aspiration', u'num-of-doors', u'body-style', u'drive-wheels',\n",
      "       u'engine-location', u'wheel-base', u'length', u'width', u'height',\n",
      "       u'curb-weight', u'engine-type', u'num-of-cylinders', u'engine-size',\n",
      "       u'fuel-system', u'bore', u'stroke', u'compression-ratio', u'horsepower',\n",
      "       u'peak-rpm', u'city-mpg', u'highway-mpg', u'price'],\n",
      "      dtype='object')\n"
     ]
    }
   ],
   "source": [
    "print df.columns"
   ]
  },
  {
   "cell_type": "code",
   "execution_count": null,
   "metadata": {
    "collapsed": true
   },
   "outputs": [],
   "source": [
    "df['symboling']"
   ]
  },
  {
   "cell_type": "code",
   "execution_count": 10,
   "metadata": {
    "collapsed": false
   },
   "outputs": [
    {
     "data": {
      "text/plain": [
       "array(['alfa-romero', 'audi', 'bmw', 'chevrolet', 'dodge', 'honda',\n",
       "       'isuzu', 'jaguar', 'mazda', 'mercedes-benz', 'mercury',\n",
       "       'mitsubishi', 'nissan', 'peugot', 'plymouth', 'porsche', 'renault',\n",
       "       'saab', 'subaru', 'toyota', 'volkswagen', 'volvo'], dtype=object)"
      ]
     },
     "execution_count": 10,
     "metadata": {},
     "output_type": "execute_result"
    }
   ],
   "source": [
    "pd.unique(df.make)"
   ]
  },
  {
   "cell_type": "code",
   "execution_count": 31,
   "metadata": {
    "collapsed": false
   },
   "outputs": [
    {
     "data": {
      "text/plain": [
       "make\n",
       "toyota           32\n",
       "nissan           18\n",
       "mazda            17\n",
       "honda            13\n",
       "mitsubishi       13\n",
       "subaru           12\n",
       "volkswagen       12\n",
       "peugot           11\n",
       "volvo            11\n",
       "dodge             9\n",
       "mercedes-benz     8\n",
       "bmw               8\n",
       "plymouth          7\n",
       "audi              7\n",
       "saab              6\n",
       "porsche           5\n",
       "isuzu             4\n",
       "chevrolet         3\n",
       "alfa-romero       3\n",
       "jaguar            3\n",
       "renault           2\n",
       "mercury           1\n",
       "dtype: int64"
      ]
     },
     "execution_count": 31,
     "metadata": {},
     "output_type": "execute_result"
    }
   ],
   "source": [
    "df_make = df.groupby('make').size().order(ascending=False)\n",
    "df_make"
   ]
  },
  {
   "cell_type": "code",
   "execution_count": 29,
   "metadata": {
    "collapsed": false
   },
   "outputs": [
    {
     "data": {
      "text/plain": [
       "array(['gas', 'diesel'], dtype=object)"
      ]
     },
     "execution_count": 29,
     "metadata": {},
     "output_type": "execute_result"
    }
   ],
   "source": [
    "pd.unique(df['fuel-type'])"
   ]
  },
  {
   "cell_type": "code",
   "execution_count": 32,
   "metadata": {
    "collapsed": false
   },
   "outputs": [
    {
     "data": {
      "text/plain": [
       "fuel-type\n",
       "gas       185\n",
       "diesel     20\n",
       "dtype: int64"
      ]
     },
     "execution_count": 32,
     "metadata": {},
     "output_type": "execute_result"
    }
   ],
   "source": [
    "df_fueltype = df.groupby('fuel-type').size().order(ascending=False)\n",
    "df_fueltype"
   ]
  },
  {
   "cell_type": "code",
   "execution_count": 65,
   "metadata": {
    "collapsed": false
   },
   "outputs": [
    {
     "data": {
      "text/plain": [
       "aspiration\n",
       "std      168\n",
       "turbo     37\n",
       "dtype: int64"
      ]
     },
     "execution_count": 65,
     "metadata": {},
     "output_type": "execute_result"
    }
   ],
   "source": [
    "pd.unique(df['aspiration'])\n",
    "df_aspiration = df.groupby('aspiration').size().order(ascending=False)\n",
    "df_aspiration"
   ]
  },
  {
   "cell_type": "code",
   "execution_count": 66,
   "metadata": {
    "collapsed": false
   },
   "outputs": [
    {
     "data": {
      "text/plain": [
       "num-of-doors\n",
       "four    114\n",
       "two      89\n",
       "?         2\n",
       "dtype: int64"
      ]
     },
     "execution_count": 66,
     "metadata": {},
     "output_type": "execute_result"
    }
   ],
   "source": [
    "pd.unique(df['num-of-doors'])\n",
    "df_doors = df.groupby('num-of-doors').size().order(ascending=False)\n",
    "df_doors"
   ]
  },
  {
   "cell_type": "code",
   "execution_count": 67,
   "metadata": {
    "collapsed": false
   },
   "outputs": [
    {
     "data": {
      "text/plain": [
       "body-style\n",
       "sedan          96\n",
       "hatchback      70\n",
       "wagon          25\n",
       "hardtop         8\n",
       "convertible     6\n",
       "dtype: int64"
      ]
     },
     "execution_count": 67,
     "metadata": {},
     "output_type": "execute_result"
    }
   ],
   "source": [
    "pd.unique(df['body-style'])\n",
    "df_style = df.groupby('body-style').size().order(ascending=False)\n",
    "df_style"
   ]
  },
  {
   "cell_type": "code",
   "execution_count": 45,
   "metadata": {
    "collapsed": false
   },
   "outputs": [
    {
     "data": {
      "text/plain": [
       "array(['rwd', 'fwd', '4wd'], dtype=object)"
      ]
     },
     "execution_count": 45,
     "metadata": {},
     "output_type": "execute_result"
    }
   ],
   "source": [
    "pd.unique(df['drive-wheels'])"
   ]
  },
  {
   "cell_type": "code",
   "execution_count": 46,
   "metadata": {
    "collapsed": false
   },
   "outputs": [
    {
     "data": {
      "text/plain": [
       "array(['front', 'rear'], dtype=object)"
      ]
     },
     "execution_count": 46,
     "metadata": {},
     "output_type": "execute_result"
    }
   ],
   "source": [
    "pd.unique(df['engine-location'])"
   ]
  },
  {
   "cell_type": "code",
   "execution_count": 49,
   "metadata": {
    "collapsed": false
   },
   "outputs": [
    {
     "data": {
      "text/plain": [
       "31      86.6\n",
       "30      86.6\n",
       "18      88.4\n",
       "0       88.6\n",
       "1       88.6\n",
       "126     89.5\n",
       "127     89.5\n",
       "128     89.5\n",
       "104     91.3\n",
       "105     91.3\n",
       "79      93.0\n",
       "54      93.1\n",
       "53      93.1\n",
       "52      93.1\n",
       "51      93.1\n",
       "50      93.1\n",
       "140     93.3\n",
       "34      93.7\n",
       "77      93.7\n",
       "78      93.7\n",
       "118     93.7\n",
       "33      93.7\n",
       "32      93.7\n",
       "139     93.7\n",
       "119     93.7\n",
       "27      93.7\n",
       "26      93.7\n",
       "25      93.7\n",
       "24      93.7\n",
       "23      93.7\n",
       "       ...  \n",
       "65     104.9\n",
       "7      105.8\n",
       "8      105.8\n",
       "6      105.8\n",
       "69     106.7\n",
       "112    107.9\n",
       "108    107.9\n",
       "107    107.9\n",
       "115    107.9\n",
       "116    107.9\n",
       "111    107.9\n",
       "117    108.0\n",
       "203    109.1\n",
       "202    109.1\n",
       "201    109.1\n",
       "200    109.1\n",
       "204    109.1\n",
       "17     110.0\n",
       "68     110.0\n",
       "67     110.0\n",
       "74     112.0\n",
       "48     113.0\n",
       "47     113.0\n",
       "109    114.2\n",
       "110    114.2\n",
       "113    114.2\n",
       "114    114.2\n",
       "71     115.6\n",
       "70     115.6\n",
       "73     120.9\n",
       "Name: wheel-base, dtype: float64"
      ]
     },
     "execution_count": 49,
     "metadata": {},
     "output_type": "execute_result"
    }
   ],
   "source": [
    "df['wheel-base'].order()"
   ]
  },
  {
   "cell_type": "code",
   "execution_count": 50,
   "metadata": {
    "collapsed": false
   },
   "outputs": [
    {
     "data": {
      "text/plain": [
       "18     141.1\n",
       "30     144.6\n",
       "31     144.6\n",
       "34     150.0\n",
       "33     150.0\n",
       "32     150.0\n",
       "45     155.9\n",
       "44     155.9\n",
       "19     155.9\n",
       "138    156.9\n",
       "36     157.1\n",
       "23     157.3\n",
       "24     157.3\n",
       "25     157.3\n",
       "78     157.3\n",
       "27     157.3\n",
       "119    157.3\n",
       "118    157.3\n",
       "79     157.3\n",
       "26     157.3\n",
       "22     157.3\n",
       "77     157.3\n",
       "76     157.3\n",
       "120    157.3\n",
       "21     157.3\n",
       "140    157.3\n",
       "139    157.9\n",
       "152    158.7\n",
       "151    158.7\n",
       "150    158.7\n",
       "       ...  \n",
       "202    188.8\n",
       "201    188.8\n",
       "200    188.8\n",
       "199    188.8\n",
       "198    188.8\n",
       "197    188.8\n",
       "196    188.8\n",
       "195    188.8\n",
       "194    188.8\n",
       "204    188.8\n",
       "15     189.0\n",
       "14     189.0\n",
       "68     190.9\n",
       "67     190.9\n",
       "49     191.7\n",
       "8      192.7\n",
       "7      192.7\n",
       "6      192.7\n",
       "16     193.8\n",
       "17     197.0\n",
       "109    198.9\n",
       "114    198.9\n",
       "113    198.9\n",
       "110    198.9\n",
       "74     199.2\n",
       "47     199.6\n",
       "48     199.6\n",
       "70     202.6\n",
       "71     202.6\n",
       "73     208.1\n",
       "Name: length, dtype: float64"
      ]
     },
     "execution_count": 50,
     "metadata": {},
     "output_type": "execute_result"
    }
   ],
   "source": [
    "df['length'].order()"
   ]
  },
  {
   "cell_type": "code",
   "execution_count": 51,
   "metadata": {
    "collapsed": false
   },
   "outputs": [
    {
     "data": {
      "text/plain": [
       "18     60.3\n",
       "43     61.8\n",
       "40     62.5\n",
       "138    63.4\n",
       "20     63.6\n",
       "139    63.6\n",
       "150    63.6\n",
       "45     63.6\n",
       "44     63.6\n",
       "151    63.6\n",
       "152    63.6\n",
       "19     63.6\n",
       "153    63.6\n",
       "154    63.6\n",
       "155    63.6\n",
       "26     63.8\n",
       "79     63.8\n",
       "122    63.8\n",
       "27     63.8\n",
       "24     63.8\n",
       "118    63.8\n",
       "119    63.8\n",
       "23     63.8\n",
       "25     63.8\n",
       "21     63.8\n",
       "121    63.8\n",
       "98     63.8\n",
       "140    63.8\n",
       "97     63.8\n",
       "96     63.8\n",
       "       ... \n",
       "114    68.4\n",
       "113    68.4\n",
       "112    68.4\n",
       "115    68.4\n",
       "110    68.4\n",
       "108    68.4\n",
       "107    68.4\n",
       "116    68.4\n",
       "111    68.4\n",
       "201    68.8\n",
       "202    68.9\n",
       "200    68.9\n",
       "204    68.9\n",
       "203    68.9\n",
       "47     69.6\n",
       "48     69.6\n",
       "67     70.3\n",
       "68     70.3\n",
       "69     70.3\n",
       "72     70.5\n",
       "49     70.6\n",
       "17     70.9\n",
       "8      71.4\n",
       "6      71.4\n",
       "7      71.4\n",
       "73     71.7\n",
       "71     71.7\n",
       "70     71.7\n",
       "74     72.0\n",
       "129    72.3\n",
       "Name: width, dtype: float64"
      ]
     },
     "execution_count": 51,
     "metadata": {},
     "output_type": "execute_result"
    }
   ],
   "source": [
    "df['width'].order()"
   ]
  },
  {
   "cell_type": "code",
   "execution_count": 52,
   "metadata": {
    "collapsed": false
   },
   "outputs": [
    {
     "data": {
      "text/plain": [
       "49     47.8\n",
       "0      48.8\n",
       "1      48.8\n",
       "81     49.4\n",
       "80     49.4\n",
       "55     49.6\n",
       "56     49.6\n",
       "58     49.6\n",
       "57     49.6\n",
       "104    49.7\n",
       "106    49.7\n",
       "105    49.7\n",
       "124    50.2\n",
       "82     50.2\n",
       "83     50.2\n",
       "84     50.2\n",
       "29     50.2\n",
       "125    50.2\n",
       "129    50.5\n",
       "131    50.5\n",
       "24     50.6\n",
       "120    50.6\n",
       "27     50.6\n",
       "26     50.6\n",
       "25     50.6\n",
       "118    50.8\n",
       "79     50.8\n",
       "72     50.8\n",
       "78     50.8\n",
       "77     50.8\n",
       "       ... \n",
       "133    56.1\n",
       "102    56.1\n",
       "196    56.2\n",
       "194    56.2\n",
       "198    56.2\n",
       "70     56.3\n",
       "17     56.3\n",
       "71     56.5\n",
       "67     56.5\n",
       "108    56.7\n",
       "73     56.7\n",
       "111    56.7\n",
       "112    56.7\n",
       "113    56.7\n",
       "115    56.7\n",
       "116    56.7\n",
       "107    56.7\n",
       "199    57.5\n",
       "197    57.5\n",
       "195    57.5\n",
       "36     58.3\n",
       "109    58.7\n",
       "68     58.7\n",
       "114    58.7\n",
       "110    58.7\n",
       "155    59.1\n",
       "153    59.1\n",
       "154    59.1\n",
       "123    59.8\n",
       "28     59.8\n",
       "Name: height, dtype: float64"
      ]
     },
     "execution_count": 52,
     "metadata": {},
     "output_type": "execute_result"
    }
   ],
   "source": [
    "df['height'].order()"
   ]
  },
  {
   "cell_type": "code",
   "execution_count": 53,
   "metadata": {
    "collapsed": false
   },
   "outputs": [
    {
     "data": {
      "text/plain": [
       "18     1488\n",
       "30     1713\n",
       "31     1819\n",
       "32     1837\n",
       "44     1874\n",
       "19     1874\n",
       "22     1876\n",
       "21     1876\n",
       "89     1889\n",
       "50     1890\n",
       "51     1900\n",
       "52     1905\n",
       "45     1909\n",
       "20     1909\n",
       "76     1918\n",
       "91     1918\n",
       "118    1918\n",
       "92     1938\n",
       "33     1940\n",
       "77     1944\n",
       "53     1945\n",
       "54     1950\n",
       "94     1951\n",
       "34     1956\n",
       "24     1967\n",
       "120    1967\n",
       "96     1971\n",
       "150    1985\n",
       "121    1989\n",
       "26     1989\n",
       "       ... \n",
       "117    3130\n",
       "180    3131\n",
       "105    3139\n",
       "106    3139\n",
       "181    3151\n",
       "199    3157\n",
       "108    3197\n",
       "203    3217\n",
       "15     3230\n",
       "109    3230\n",
       "112    3252\n",
       "116    3252\n",
       "113    3285\n",
       "102    3296\n",
       "129    3366\n",
       "16     3380\n",
       "110    3430\n",
       "114    3485\n",
       "69     3495\n",
       "17     3505\n",
       "67     3515\n",
       "72     3685\n",
       "74     3715\n",
       "71     3740\n",
       "68     3750\n",
       "70     3770\n",
       "73     3900\n",
       "49     3950\n",
       "48     4066\n",
       "47     4066\n",
       "Name: curb-weight, dtype: int64"
      ]
     },
     "execution_count": 53,
     "metadata": {},
     "output_type": "execute_result"
    }
   ],
   "source": [
    "df['curb-weight'].order()"
   ]
  },
  {
   "cell_type": "code",
   "execution_count": 54,
   "metadata": {
    "collapsed": false
   },
   "outputs": [
    {
     "data": {
      "text/plain": [
       "array(['dohc', 'ohcv', 'ohc', 'l', 'rotor', 'ohcf', 'dohcv'], dtype=object)"
      ]
     },
     "execution_count": 54,
     "metadata": {},
     "output_type": "execute_result"
    }
   ],
   "source": [
    "pd.unique(df['engine-type'])"
   ]
  },
  {
   "cell_type": "code",
   "execution_count": 55,
   "metadata": {
    "collapsed": false
   },
   "outputs": [
    {
     "data": {
      "text/plain": [
       "array(['four', 'six', 'five', 'three', 'twelve', 'two', 'eight'], dtype=object)"
      ]
     },
     "execution_count": 55,
     "metadata": {},
     "output_type": "execute_result"
    }
   ],
   "source": [
    "pd.unique(df['num-of-cylinders'])"
   ]
  },
  {
   "cell_type": "code",
   "execution_count": 56,
   "metadata": {
    "collapsed": false
   },
   "outputs": [
    {
     "data": {
      "text/plain": [
       "18      61\n",
       "57      70\n",
       "55      70\n",
       "56      70\n",
       "32      79\n",
       "58      80\n",
       "22      90\n",
       "21      90\n",
       "20      90\n",
       "19      90\n",
       "24      90\n",
       "26      90\n",
       "118     90\n",
       "120     90\n",
       "121     90\n",
       "45      90\n",
       "44      90\n",
       "25      90\n",
       "51      91\n",
       "50      91\n",
       "54      91\n",
       "52      91\n",
       "53      91\n",
       "36      92\n",
       "35      92\n",
       "76      92\n",
       "77      92\n",
       "78      92\n",
       "155     92\n",
       "154     92\n",
       "      ... \n",
       "12     164\n",
       "13     164\n",
       "178    171\n",
       "179    171\n",
       "180    171\n",
       "202    173\n",
       "102    181\n",
       "101    181\n",
       "106    181\n",
       "105    181\n",
       "104    181\n",
       "103    181\n",
       "70     183\n",
       "69     183\n",
       "68     183\n",
       "67     183\n",
       "127    194\n",
       "126    194\n",
       "128    194\n",
       "129    203\n",
       "17     209\n",
       "16     209\n",
       "15     209\n",
       "71     234\n",
       "72     234\n",
       "48     258\n",
       "47     258\n",
       "74     304\n",
       "73     308\n",
       "49     326\n",
       "Name: engine-size, dtype: int64"
      ]
     },
     "execution_count": 56,
     "metadata": {},
     "output_type": "execute_result"
    }
   ],
   "source": [
    "df['engine-size'].order()"
   ]
  },
  {
   "cell_type": "code",
   "execution_count": 58,
   "metadata": {
    "collapsed": false
   },
   "outputs": [
    {
     "data": {
      "text/plain": [
       "array(['mpfi', '2bbl', 'mfi', '1bbl', 'spfi', '4bbl', 'idi', 'spdi'], dtype=object)"
      ]
     },
     "execution_count": 58,
     "metadata": {},
     "output_type": "execute_result"
    }
   ],
   "source": [
    "pd.unique(df['fuel-system'])"
   ]
  },
  {
   "cell_type": "code",
   "execution_count": 59,
   "metadata": {
    "collapsed": false
   },
   "outputs": [
    {
     "data": {
      "text/plain": [
       "134    2.54\n",
       "2      2.68\n",
       "31     2.91\n",
       "30     2.91\n",
       "34     2.91\n",
       "35     2.91\n",
       "18     2.91\n",
       "32     2.91\n",
       "33     2.91\n",
       "36     2.92\n",
       "121    2.97\n",
       "78     2.97\n",
       "77     2.97\n",
       "26     2.97\n",
       "25     2.97\n",
       "24     2.97\n",
       "22     2.97\n",
       "122    2.97\n",
       "21     2.97\n",
       "118    2.97\n",
       "120    2.97\n",
       "76     2.97\n",
       "90     2.99\n",
       "184    3.01\n",
       "203    3.01\n",
       "182    3.01\n",
       "192    3.01\n",
       "187    3.01\n",
       "45     3.03\n",
       "50     3.03\n",
       "       ... \n",
       "142    3.62\n",
       "139    3.62\n",
       "149    3.62\n",
       "47     3.63\n",
       "48     3.63\n",
       "108    3.70\n",
       "116    3.70\n",
       "114    3.70\n",
       "112    3.70\n",
       "110    3.70\n",
       "127    3.74\n",
       "126    3.74\n",
       "128    3.74\n",
       "65     3.76\n",
       "197    3.78\n",
       "196    3.78\n",
       "195    3.78\n",
       "200    3.78\n",
       "201    3.78\n",
       "75     3.78\n",
       "194    3.78\n",
       "204    3.78\n",
       "73     3.80\n",
       "74     3.80\n",
       "129    3.94\n",
       "125    3.94\n",
       "55        ?\n",
       "56        ?\n",
       "57        ?\n",
       "58        ?\n",
       "Name: bore, dtype: object"
      ]
     },
     "execution_count": 59,
     "metadata": {},
     "output_type": "execute_result"
    }
   ],
   "source": [
    "df['bore'].order()"
   ]
  },
  {
   "cell_type": "code",
   "execution_count": 60,
   "metadata": {
    "collapsed": false
   },
   "outputs": [
    {
     "data": {
      "text/plain": [
       "134    2.07\n",
       "111    2.19\n",
       "113    2.19\n",
       "138    2.36\n",
       "149    2.64\n",
       "139    2.64\n",
       "140    2.64\n",
       "141    2.64\n",
       "142    2.64\n",
       "143    2.64\n",
       "144    2.64\n",
       "145    2.64\n",
       "146    2.64\n",
       "147    2.64\n",
       "148    2.64\n",
       "0      2.68\n",
       "1      2.68\n",
       "49     2.76\n",
       "10     2.80\n",
       "11     2.80\n",
       "202    2.87\n",
       "128    2.90\n",
       "127    2.90\n",
       "126    2.90\n",
       "163    3.03\n",
       "164    3.03\n",
       "151    3.03\n",
       "152    3.03\n",
       "150    3.03\n",
       "154    3.03\n",
       "       ... \n",
       "108    3.52\n",
       "116    3.52\n",
       "175    3.54\n",
       "176    3.54\n",
       "177    3.54\n",
       "173    3.54\n",
       "40     3.58\n",
       "41     3.58\n",
       "39     3.58\n",
       "38     3.58\n",
       "37     3.58\n",
       "42     3.58\n",
       "66     3.64\n",
       "68     3.64\n",
       "69     3.64\n",
       "70     3.64\n",
       "67     3.64\n",
       "84     3.86\n",
       "83     3.86\n",
       "124    3.86\n",
       "82     3.86\n",
       "29     3.90\n",
       "131    3.90\n",
       "130    3.90\n",
       "47     4.17\n",
       "48     4.17\n",
       "57        ?\n",
       "58        ?\n",
       "55        ?\n",
       "56        ?\n",
       "Name: stroke, dtype: object"
      ]
     },
     "execution_count": 60,
     "metadata": {},
     "output_type": "execute_result"
    }
   ],
   "source": [
    "df['stroke'].order()"
   ]
  },
  {
   "cell_type": "code",
   "execution_count": 61,
   "metadata": {
    "collapsed": false
   },
   "outputs": [
    {
     "data": {
      "text/plain": [
       "84      7.0\n",
       "29      7.0\n",
       "117     7.0\n",
       "82      7.0\n",
       "9       7.0\n",
       "124     7.0\n",
       "83      7.0\n",
       "199     7.5\n",
       "80      7.5\n",
       "88      7.5\n",
       "87      7.5\n",
       "198     7.5\n",
       "23      7.6\n",
       "79      7.6\n",
       "119     7.6\n",
       "27      7.6\n",
       "145     7.7\n",
       "149     7.7\n",
       "105     7.8\n",
       "15      8.0\n",
       "16      8.0\n",
       "17      8.0\n",
       "65      8.0\n",
       "4       8.0\n",
       "73      8.0\n",
       "74      8.0\n",
       "75      8.0\n",
       "47      8.1\n",
       "48      8.1\n",
       "72      8.3\n",
       "       ... \n",
       "30      9.6\n",
       "45      9.6\n",
       "44      9.6\n",
       "19      9.6\n",
       "20      9.6\n",
       "3      10.0\n",
       "129    10.0\n",
       "188    10.0\n",
       "32     10.1\n",
       "49     11.5\n",
       "116    21.0\n",
       "114    21.0\n",
       "110    21.0\n",
       "108    21.0\n",
       "112    21.0\n",
       "70     21.5\n",
       "67     21.5\n",
       "69     21.5\n",
       "68     21.5\n",
       "90     21.9\n",
       "66     22.0\n",
       "159    22.5\n",
       "158    22.5\n",
       "174    22.5\n",
       "63     22.7\n",
       "184    23.0\n",
       "192    23.0\n",
       "182    23.0\n",
       "203    23.0\n",
       "187    23.0\n",
       "Name: compression-ratio, dtype: float64"
      ]
     },
     "execution_count": 61,
     "metadata": {},
     "output_type": "execute_result"
    }
   ],
   "source": [
    "df['compression-ratio'].order()"
   ]
  },
  {
   "cell_type": "code",
   "execution_count": null,
   "metadata": {
    "collapsed": false
   },
   "outputs": [],
   "source": []
  },
  {
   "cell_type": "code",
   "execution_count": null,
   "metadata": {
    "collapsed": true
   },
   "outputs": [],
   "source": []
  }
 ],
 "metadata": {
  "kernelspec": {
   "display_name": "Python 2",
   "language": "python",
   "name": "python2"
  },
  "language_info": {
   "codemirror_mode": {
    "name": "ipython",
    "version": 2
   },
   "file_extension": ".py",
   "mimetype": "text/x-python",
   "name": "python",
   "nbconvert_exporter": "python",
   "pygments_lexer": "ipython2",
   "version": "2.7.11"
  }
 },
 "nbformat": 4,
 "nbformat_minor": 0
}
